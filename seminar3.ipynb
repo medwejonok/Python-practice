{
  "cells": [
    {
      "cell_type": "markdown",
      "id": "dbd35636",
      "metadata": {
        "id": "dbd35636"
      },
      "source": [
        "# Семинар 3\n",
        "\n",
        "__Имя:__ Маликов Денис\n",
        "__Дата:__ 15.09.22\n",
        "__Группа:__ ПИ22-5\n",
        "\n",
        "### Задания по семинару 2\n",
        "\n",
        "0) Получить переменную, содержащую строку со значением равным двум в одиннадцатой степени и вывести ее на экран.\n"
      ]
    },
    {
      "cell_type": "code",
      "execution_count": null,
      "id": "3257b10d",
      "metadata": {
        "id": "3257b10d",
        "outputId": "9d99af89-8725-45d5-fa78-b0f1549ef7e1"
      },
      "outputs": [
        {
          "name": "stdout",
          "output_type": "stream",
          "text": [
            "2048\n"
          ]
        }
      ],
      "source": [
        "line = str(2**11)\n",
        "print(line)"
      ]
    },
    {
      "cell_type": "markdown",
      "id": "38db967a",
      "metadata": {
        "id": "38db967a"
      },
      "source": [
        "1) Наибольшим количеством способов создать строковую переменную, содержащую текст:\n",
        "\n",
        "It's \"quoted string\""
      ]
    },
    {
      "cell_type": "code",
      "execution_count": null,
      "id": "1700c341",
      "metadata": {
        "id": "1700c341",
        "outputId": "c20b3354-5b22-4110-a4da-03d6aa312cad"
      },
      "outputs": [
        {
          "name": "stdout",
          "output_type": "stream",
          "text": [
            "It's \"quoted string\"\n",
            "It's \"quoted string\"\n"
          ]
        }
      ],
      "source": [
        "print(\"It's \" + '\"quoted string\"')\n",
        "print(\"It's \\\"quoted string\\\"\")"
      ]
    },
    {
      "cell_type": "markdown",
      "id": "fa8f8f56",
      "metadata": {
        "id": "fa8f8f56"
      },
      "source": [
        "2) Наибольшим количеством способов создать строковую переменную, содержащую текст:"
      ]
    },
    {
      "cell_type": "code",
      "execution_count": null,
      "id": "019f65d6",
      "metadata": {
        "id": "019f65d6",
        "outputId": "64a12cd6-c63a-4b6a-bd01-a555da4c00d7"
      },
      "outputs": [
        {
          "name": "stdout",
          "output_type": "stream",
          "text": [
            "line1\n",
            "\n",
            "line2\n",
            "\n",
            "line3\n"
          ]
        }
      ],
      "source": [
        "print('line1\\n\\nline2\\n\\nline3')\n"
      ]
    },
    {
      "cell_type": "markdown",
      "id": "4d4a2ea2",
      "metadata": {
        "id": "4d4a2ea2"
      },
      "source": [
        "3) Наибольшим количеством способов создать строковую переменную, содержащую текст:"
      ]
    },
    {
      "cell_type": "code",
      "execution_count": null,
      "id": "e625649a",
      "metadata": {
        "id": "e625649a",
        "outputId": "716a37de-a2f1-41b3-feb7-a9723287888a"
      },
      "outputs": [
        {
          "name": "stdout",
          "output_type": "stream",
          "text": [
            "\\\\\\\\\n",
            "\n",
            "\\\\\\\n",
            "\n",
            "\\\\\n",
            "\n",
            "\\\n"
          ]
        }
      ],
      "source": [
        "print(\"\\\\\"*4 + \"\\n\\n\" + \"\\\\\"*3 + \"\\n\\n\" + \"\\\\\"*2 + \"\\n\\n\" + \"\\\\\")"
      ]
    },
    {
      "cell_type": "markdown",
      "id": "ad58a33d",
      "metadata": {
        "id": "ad58a33d"
      },
      "source": [
        "4) Вывести 5й с начала и 5й с конца символ из строки 'Hello world'"
      ]
    },
    {
      "cell_type": "code",
      "execution_count": null,
      "id": "9ce23d7d",
      "metadata": {
        "id": "9ce23d7d",
        "outputId": "5a089184-3119-46f3-950b-0ae750f4aec8"
      },
      "outputs": [
        {
          "name": "stdout",
          "output_type": "stream",
          "text": [
            "o w\n"
          ]
        }
      ],
      "source": [
        "string = \"Hello world\"\n",
        "print(string[4],string[-5])"
      ]
    },
    {
      "cell_type": "markdown",
      "id": "52b0c7bc",
      "metadata": {
        "id": "52b0c7bc"
      },
      "source": [
        "5) Двумя способами получить символ 'w' из строки 'Hello world'"
      ]
    },
    {
      "cell_type": "code",
      "execution_count": null,
      "id": "1eaaa2c5",
      "metadata": {
        "id": "1eaaa2c5",
        "outputId": "9476c4de-67e3-4636-ed0d-de4d416dc137"
      },
      "outputs": [
        {
          "name": "stdout",
          "output_type": "stream",
          "text": [
            "w w\n"
          ]
        }
      ],
      "source": [
        "string = \"Hello world\"\n",
        "print(string[-5],string[6])"
      ]
    },
    {
      "cell_type": "markdown",
      "id": "722f814e",
      "metadata": {
        "id": "722f814e"
      },
      "source": [
        "6) Вывести символ, находящийся в середине заранее низвестной строки, полученной с помощью функции input()"
      ]
    },
    {
      "cell_type": "code",
      "execution_count": null,
      "id": "203fd5b7",
      "metadata": {
        "id": "203fd5b7",
        "outputId": "b1105bf6-d723-4522-b462-74a60abf41cc"
      },
      "outputs": [
        {
          "name": "stdout",
          "output_type": "stream",
          "text": [
            "12345\n",
            "3\n"
          ]
        }
      ],
      "source": [
        "string = input()\n",
        "x = len(string)//2\n",
        "print(string[x])"
      ]
    },
    {
      "cell_type": "markdown",
      "id": "81590929",
      "metadata": {
        "id": "81590929"
      },
      "source": [
        "7) Для строки 'Light ray' двумя способами получить подстроку с 1го по 4й символы включительно."
      ]
    },
    {
      "cell_type": "code",
      "execution_count": null,
      "id": "72d19644",
      "metadata": {
        "id": "72d19644",
        "outputId": "a94c3319-ecb7-4ca5-c6ef-520a4569739b"
      },
      "outputs": [
        {
          "name": "stdout",
          "output_type": "stream",
          "text": [
            "Ligh\n",
            "Ligh\n"
          ]
        }
      ],
      "source": [
        "string = 'Light ray'\n",
        "print(string[0:4])\n",
        "print(string[0], string[1], string[2], string[3], sep = '')"
      ]
    },
    {
      "cell_type": "markdown",
      "id": "b399a81d",
      "metadata": {
        "id": "b399a81d"
      },
      "source": [
        "8) Для строки 'My new text' двумя способами получить подстроку с 3го по 7й символы включительно."
      ]
    },
    {
      "cell_type": "code",
      "execution_count": null,
      "id": "586b1229",
      "metadata": {
        "id": "586b1229",
        "outputId": "bea56c8c-43e3-475e-d9be-b190f71b3f07"
      },
      "outputs": [
        {
          "name": "stdout",
          "output_type": "stream",
          "text": [
            " new \n",
            " new \n"
          ]
        }
      ],
      "source": [
        "string = 'My new text'\n",
        "print(string[2], string[3], string[4], string[5], string[6], sep = '')\n",
        "print(string[2:7])"
      ]
    },
    {
      "cell_type": "markdown",
      "id": "ef5a0e9c",
      "metadata": {
        "id": "ef5a0e9c"
      },
      "source": [
        "9) Получить подстроку из последних 4х символов строки 'Light ray'."
      ]
    },
    {
      "cell_type": "code",
      "execution_count": null,
      "id": "9fa21d6f",
      "metadata": {
        "id": "9fa21d6f",
        "outputId": "5b5ba1e2-4933-42d9-c056-9d606de596d1"
      },
      "outputs": [
        {
          "name": "stdout",
          "output_type": "stream",
          "text": [
            " ray\n"
          ]
        }
      ],
      "source": [
        "string = 'Light ray'\n",
        "print(string[5:])"
      ]
    },
    {
      "cell_type": "markdown",
      "id": "a68db74b",
      "metadata": {
        "id": "a68db74b"
      },
      "source": [
        "10) Составить строку из всех четных символов строки 'Light ray'."
      ]
    },
    {
      "cell_type": "code",
      "execution_count": null,
      "id": "8afd77d8",
      "metadata": {
        "id": "8afd77d8",
        "outputId": "3c69bb8f-ce39-47c9-d13a-f86f330f4ec5"
      },
      "outputs": [
        {
          "name": "stdout",
          "output_type": "stream",
          "text": [
            "ih a\n"
          ]
        }
      ],
      "source": [
        "string = 'Light ray'\n",
        "print(string[1::2])"
      ]
    },
    {
      "cell_type": "markdown",
      "id": "de6868b1",
      "metadata": {
        "id": "de6868b1"
      },
      "source": [
        "11) Составить строку из всех нечетных символов строки 'Light ray'."
      ]
    },
    {
      "cell_type": "code",
      "execution_count": null,
      "id": "e9ea04e3",
      "metadata": {
        "id": "e9ea04e3",
        "outputId": "8a76d418-d512-4ddc-a95e-2e43aa27e5e1"
      },
      "outputs": [
        {
          "name": "stdout",
          "output_type": "stream",
          "text": [
            "Lgtry\n"
          ]
        }
      ],
      "source": [
        "string = 'Light ray'\n",
        "print(string[::2])"
      ]
    },
    {
      "cell_type": "markdown",
      "id": "7c96601c",
      "metadata": {
        "id": "7c96601c"
      },
      "source": [
        "12) Инвертировать (получить строку с обратной последовательностью символо) строку  'Light ray'."
      ]
    },
    {
      "cell_type": "code",
      "execution_count": null,
      "id": "97000f5b",
      "metadata": {
        "id": "97000f5b",
        "outputId": "a5dda729-cf9b-4e93-8834-c1704c3ea7cf"
      },
      "outputs": [
        {
          "name": "stdout",
          "output_type": "stream",
          "text": [
            "yar thgiL\n"
          ]
        }
      ],
      "source": [
        "string = 'Light ray'\n",
        "print(string[::-1])"
      ]
    },
    {
      "cell_type": "markdown",
      "id": "4557b8bf",
      "metadata": {
        "id": "4557b8bf"
      },
      "source": [
        "13) Вывести c третьего с начала до предпоследнего символа заранее низвестной строки, полученной с помощью функции input()."
      ]
    },
    {
      "cell_type": "code",
      "execution_count": null,
      "id": "42d78c94",
      "metadata": {
        "colab": {
          "base_uri": "https://localhost:8080/"
        },
        "id": "42d78c94",
        "outputId": "178ddb46-3555-4139-c6df-7d807610f2ff"
      },
      "outputs": [
        {
          "output_type": "stream",
          "name": "stdout",
          "text": [
            "hello\n",
            "ll\n"
          ]
        }
      ],
      "source": [
        "string = input()\n",
        "print(string[2:-1])"
      ]
    },
    {
      "cell_type": "markdown",
      "id": "73d004c9",
      "metadata": {
        "id": "73d004c9"
      },
      "source": [
        "14) Получить подстроку неизвестной заранее строки, содержащую половину символов строки и расположенную по середине строки."
      ]
    },
    {
      "cell_type": "code",
      "execution_count": null,
      "id": "cdc98644",
      "metadata": {
        "id": "cdc98644",
        "outputId": "946111d7-8512-4f66-9e5d-94ed5dad3c3f"
      },
      "outputs": [
        {
          "name": "stdout",
          "output_type": "stream",
          "text": [
            "1234567\n",
            "345\n"
          ]
        }
      ],
      "source": [
        "string = input()\n",
        "x = len(string)//2\n",
        "x//=2\n",
        "print(string[x+1:-x-1])"
      ]
    },
    {
      "cell_type": "markdown",
      "id": "891538fd",
      "metadata": {
        "id": "891538fd"
      },
      "source": [
        "15) Проверить, содержит ли произвольная строка, прочитанная в обратную сторону последовательность 'eno'"
      ]
    },
    {
      "cell_type": "code",
      "execution_count": null,
      "id": "ffe4893e",
      "metadata": {
        "id": "ffe4893e",
        "outputId": "1f744632-f197-442e-f4f8-cfb829f0ab9d"
      },
      "outputs": [
        {
          "name": "stdout",
          "output_type": "stream",
          "text": [
            "hgfone\n",
            "True\n"
          ]
        }
      ],
      "source": [
        "string = input()\n",
        "string2 = string[::-1]\n",
        "if 'eno' in string2:\n",
        "    print(True)\n",
        "else:\n",
        "    print(False)"
      ]
    },
    {
      "cell_type": "markdown",
      "id": "667aa5a3",
      "metadata": {
        "id": "667aa5a3"
      },
      "source": [
        "16) Получить строку, начинающуюся с последних 3 символов стркои 'Light ray', а заканчивающуюся подстрокой с 1го до 4го символоа строки."
      ]
    },
    {
      "cell_type": "code",
      "execution_count": null,
      "id": "f6daf77c",
      "metadata": {
        "id": "f6daf77c",
        "outputId": "869c41cc-cf3e-406c-db7b-5d0eb57f3c40"
      },
      "outputs": [
        {
          "name": "stdout",
          "output_type": "stream",
          "text": [
            "yarLigh\n"
          ]
        }
      ],
      "source": [
        "string = 'Light ray'\n",
        "print(string[-1] + string[-2] + string[-3] + string[0:4])"
      ]
    },
    {
      "cell_type": "markdown",
      "id": "61ddc666",
      "metadata": {
        "id": "61ddc666"
      },
      "source": [
        "17) Коротко записать создание строки 'oneoneoneoneoneonetwotwotwo'"
      ]
    },
    {
      "cell_type": "code",
      "execution_count": null,
      "id": "11f690d5",
      "metadata": {
        "id": "11f690d5",
        "outputId": "211ecbd5-8996-4783-e74a-64407f6bd1c7"
      },
      "outputs": [
        {
          "name": "stdout",
          "output_type": "stream",
          "text": [
            "oneoneoneoneoneonetwotwotwo\n"
          ]
        }
      ],
      "source": [
        "print('one'*6 + 'two'*3)"
      ]
    },
    {
      "cell_type": "markdown",
      "id": "57200688",
      "metadata": {
        "id": "57200688"
      },
      "source": [
        "18) Разбить строку ' one,two,three,four,five,six,seven,eight,nine,ten ' на список из строк, состоящих только из названий цифр."
      ]
    },
    {
      "cell_type": "code",
      "execution_count": null,
      "id": "7091d898",
      "metadata": {
        "id": "7091d898",
        "outputId": "8b65166a-c0af-4ccc-bf74-e941a9d472a6"
      },
      "outputs": [
        {
          "name": "stdout",
          "output_type": "stream",
          "text": [
            "one two three four five six seven eight nine ten\n"
          ]
        }
      ],
      "source": [
        "string = ' one,two,three,four,five,six,seven,eight,nine,ten '\n",
        "string2 = string.split(',')\n",
        "string2[0] = string2[0][1:]\n",
        "string2[-1] = string2[-1][:-1]\n",
        "print(*string2)"
      ]
    },
    {
      "cell_type": "markdown",
      "id": "d7e485dc",
      "metadata": {
        "id": "d7e485dc"
      },
      "source": [
        "19) Вставить между всеми символами строки 'Hello world' стрелочку '->' и сохранить результат в строковой переменной(ожидаемый результат: 'H->e->l->l->o-> ->w->o->r->l->d')"
      ]
    },
    {
      "cell_type": "code",
      "execution_count": null,
      "id": "df63eacc",
      "metadata": {
        "id": "df63eacc",
        "outputId": "d2297725-e893-46ac-f322-74e78833f1f5"
      },
      "outputs": [
        {
          "name": "stdout",
          "output_type": "stream",
          "text": [
            "H->e->l->l->o-> ->w->o->r->l->d\n"
          ]
        }
      ],
      "source": [
        "string = \"Hello world\"\n",
        "string = list(string)\n",
        "string2 = ''\n",
        "for i in range(11):\n",
        "    if i == 10:\n",
        "        string2 += string[10]\n",
        "    else:\n",
        "        string2 += string[i]+'->'\n",
        "print(string2)"
      ]
    },
    {
      "cell_type": "markdown",
      "id": "1782eba2",
      "metadata": {
        "id": "1782eba2"
      },
      "source": [
        "20) Для двух произвольных строк провести сравнение на совпадение содержимого без учета регистра букв и начальных и конечных пробельных символов. Например, для двух строк ' HeLLO WOrlD' и 'hello WORLD ' такое сравнение должно возвращать True (содержание строк совпадает)."
      ]
    },
    {
      "cell_type": "code",
      "execution_count": null,
      "id": "6494836e",
      "metadata": {
        "id": "6494836e",
        "outputId": "044434f8-dae5-474e-92e2-874efe6505b6"
      },
      "outputs": [
        {
          "name": "stdout",
          "output_type": "stream",
          "text": [
            " HeLLO WOrlD\n",
            "hello WORLD \n",
            "True\n"
          ]
        }
      ],
      "source": [
        "str1 = input()\n",
        "str2 = input()\n",
        "str1 = str1.replace(\" \",'')\n",
        "str2 = str2.replace(\" \",'')\n",
        "if str1.lower() == str2.lower():\n",
        "    print(True)\n",
        "else:\n",
        "    print(False)"
      ]
    },
    {
      "cell_type": "markdown",
      "id": "09de5f4b",
      "metadata": {
        "id": "09de5f4b"
      },
      "source": [
        "21) В строке 'hello hello Hello hello' средствами Python найти индекс второго вхождения подстроки 'hel'"
      ]
    },
    {
      "cell_type": "code",
      "execution_count": null,
      "id": "a2a16c25",
      "metadata": {
        "id": "a2a16c25",
        "outputId": "11a69714-d24d-48e2-8ee4-e855e47fb946"
      },
      "outputs": [
        {
          "name": "stdout",
          "output_type": "stream",
          "text": [
            "6\n"
          ]
        }
      ],
      "source": [
        "string = 'hello hello Hello hello'\n",
        "count = 0\n",
        "for i in range(len(string)-2):\n",
        "    if string[i] == 'h' and string[i+1] == 'e' and string[i+2] == 'l':\n",
        "        count += 1\n",
        "    if count == 2:\n",
        "        print(i)\n",
        "        break"
      ]
    },
    {
      "cell_type": "markdown",
      "id": "2c7ccf4d",
      "metadata": {
        "id": "2c7ccf4d"
      },
      "source": [
        "22) В строке 'hello hello Hello hello' средствами Python найти индекс второго с конца вхождения подстроки 'hel'"
      ]
    },
    {
      "cell_type": "code",
      "execution_count": null,
      "id": "9bd8ef17",
      "metadata": {
        "colab": {
          "base_uri": "https://localhost:8080/"
        },
        "id": "9bd8ef17",
        "outputId": "3c31a2b6-4267-498e-dc9b-0e83c7bb5436"
      },
      "outputs": [
        {
          "output_type": "stream",
          "name": "stdout",
          "text": [
            "8\n"
          ]
        }
      ],
      "source": [
        "string = 'hello hello Hello hello'\n",
        "count = 0\n",
        "for i in range(len(string)-1,2,-1):\n",
        "    if string[i] == 'l' and string[i-1] == 'e' and string[i-2] == 'h':\n",
        "        count += 1\n",
        "    if count == 2:\n",
        "        print(i)\n",
        "        break\n",
        "    "
      ]
    },
    {
      "cell_type": "markdown",
      "id": "f7e558d9",
      "metadata": {
        "id": "f7e558d9"
      },
      "source": [
        "23) Из заранее неизвестной строки вырезать подстроку, начинающуюся с 'he' и заканчивающееся 'on' (протестировать на строке ' start hello python world'."
      ]
    },
    {
      "cell_type": "code",
      "execution_count": null,
      "id": "608f7b7d",
      "metadata": {
        "id": "608f7b7d",
        "outputId": "4abd8a26-41ee-4442-e3eb-4212b0d06a30"
      },
      "outputs": [
        {
          "name": "stdout",
          "output_type": "stream",
          "text": [
            "start hello python world\n",
            "start  world\n"
          ]
        }
      ],
      "source": [
        "string = input()\n",
        "string2 = ''\n",
        "if 'he' in string:\n",
        "    for i in range(len(string)):\n",
        "        if string[i] == 'h' and string[i+1] == 'e':\n",
        "            string2 += string[:i]\n",
        "if 'on' in string:\n",
        "    for i in range(len(string)):\n",
        "        if string[i] == 'o' and string[i+1] == 'n':\n",
        "            string2 += string[i+2:]\n",
        "        \n",
        "print(string2)\n",
        "        "
      ]
    },
    {
      "cell_type": "markdown",
      "id": "e68b40cf",
      "metadata": {
        "id": "e68b40cf"
      },
      "source": [
        "24)* Используя цикл for и функцию enumerate() (см. лекцию 2) в вывести произвольную строку на экран и при этом убрать все пробелы и на их месте вывести номер слова по счету (пример: исходная строка 'hello hello Hello hello' -> выведено на экран 'hello1hello2Hello3hello4')"
      ]
    },
    {
      "cell_type": "code",
      "execution_count": null,
      "id": "6c594888",
      "metadata": {
        "id": "6c594888",
        "outputId": "af938b86-cc69-4d46-cb41-60c0345eb8d9"
      },
      "outputs": [
        {
          "name": "stdout",
          "output_type": "stream",
          "text": [
            "hello hello Hello hello\n",
            "hello1hello2Hello3hello4\n"
          ]
        }
      ],
      "source": [
        "string = input()\n",
        "string = string.split()\n",
        "string2 = ''\n",
        "for i, val in enumerate(string, start = 1):\n",
        "    string2 += val + str(i)\n",
        "    #string2 += string[i] + str(val) + \" \"\n",
        "print(string2)"
      ]
    },
    {
      "cell_type": "markdown",
      "id": "6128a5bd",
      "metadata": {
        "id": "6128a5bd"
      },
      "source": [
        "25) Сформировать строку форматирования, которая для вызова format('val1', 'val2', 'val3') будет возрващать следующий результат: 'val3-val2-val1-val2-val3"
      ]
    },
    {
      "cell_type": "code",
      "execution_count": null,
      "id": "59cd5205",
      "metadata": {
        "id": "59cd5205",
        "outputId": "883c1165-2373-4a26-dc8e-8f20b04fbfc0"
      },
      "outputs": [
        {
          "name": "stdout",
          "output_type": "stream",
          "text": [
            "val3-val2-val1-val2-val3\n"
          ]
        }
      ],
      "source": [
        "print(\"{2}-{1}-{0}-{1}-{2}\".format('val1', 'val2', 'val3'))"
      ]
    },
    {
      "cell_type": "markdown",
      "id": "0a729bae",
      "metadata": {
        "id": "0a729bae"
      },
      "source": [
        "26) Сформировать строку форматирования fs, которая на при использовании в нижеследующем коде приводит к формированию таблицы, выведенной в следующей ячейке."
      ]
    },
    {
      "cell_type": "code",
      "execution_count": null,
      "id": "5235d36c",
      "metadata": {
        "id": "5235d36c"
      },
      "outputs": [],
      "source": [
        "Я дико извиняюсь, но условие не понял. Простите. "
      ]
    },
    {
      "cell_type": "markdown",
      "id": "a9dbb380",
      "metadata": {
        "id": "a9dbb380"
      },
      "source": [
        "Дополнительно: написать простейший текстовый редактор с построчным вводом строк, которые будут записаны в файл. Перед вводом текста пользователь должен ввести название файла. после ввода пустой строки программа должна завершиться"
      ]
    },
    {
      "cell_type": "code",
      "execution_count": null,
      "id": "b5f9146b",
      "metadata": {
        "id": "b5f9146b"
      },
      "outputs": [],
      "source": [
        "file_name = input('Введите название файла: ')\n",
        "file_name += '.txt'\n",
        "f = open(file_name, 'w')\n",
        "while True:\n",
        "    string = input()\n",
        "    if string == '':\n",
        "        break\n",
        "    f.write(string + '\\n')\n",
        "f.close()\n"
      ]
    }
  ],
  "metadata": {
    "kernelspec": {
      "display_name": "Python 3",
      "language": "python",
      "name": "python3"
    },
    "language_info": {
      "codemirror_mode": {
        "name": "ipython",
        "version": 3
      },
      "file_extension": ".py",
      "mimetype": "text/x-python",
      "name": "python",
      "nbconvert_exporter": "python",
      "pygments_lexer": "ipython3",
      "version": "3.8.10"
    },
    "colab": {
      "provenance": [],
      "collapsed_sections": []
    }
  },
  "nbformat": 4,
  "nbformat_minor": 5
}