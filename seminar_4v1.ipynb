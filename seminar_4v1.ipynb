{
  "cells": [
    {
      "cell_type": "markdown",
      "metadata": {
        "id": "vTB5o3kIqi-_"
      },
      "source": [
        "# Семинар 3: Логические переменные, операции сравнения, условный оператор"
      ]
    },
    {
      "cell_type": "markdown",
      "metadata": {
        "id": "nT04-lEDqtYI"
      },
      "source": [
        "__Дата:__ 22.09.22     \n",
        "__Выполнил:__ Маликов Денис Владимирович        \n",
        "__Группа:__ ПИ22-5    "
      ]
    },
    {
      "cell_type": "markdown",
      "metadata": {
        "id": "-rarc8ctpYm4"
      },
      "source": [
        "## Задания"
      ]
    },
    {
      "cell_type": "markdown",
      "metadata": {
        "id": "B9LdUfkBpYm-"
      },
      "source": [
        "1 Проверить выполнение следующих логических тождеств (законов де Моргана) для всех значений А и В (FF, FT, TF, TT):"
      ]
    },
    {
      "cell_type": "markdown",
      "metadata": {
        "id": "s465iI_qpYm-"
      },
      "source": [
        "![Объекты и ссылки на объекты](2017sem03-bool-deMorgan.png)"
      ]
    },
    {
      "cell_type": "code",
      "execution_count": null,
      "metadata": {
        "id": "rr-949xwpsvf",
        "outputId": "4283e16b-3dd3-4e86-af38-a66b8cc6379e"
      },
      "outputs": [
        {
          "name": "stdout",
          "output_type": "stream",
          "text": [
            "True\n",
            "True\n",
            "True\n",
            "True\n"
          ]
        }
      ],
      "source": [
        "for A in [False, True]:\n",
        "    for B in [False, True]:\n",
        "        print(not(A or B) == (not(A) and not(B)))"
      ]
    },
    {
      "cell_type": "code",
      "execution_count": null,
      "metadata": {
        "id": "80vTqtMJ0MNg",
        "outputId": "25f178aa-fa3c-4627-d2ac-20b3c44fbc65"
      },
      "outputs": [
        {
          "name": "stdout",
          "output_type": "stream",
          "text": [
            "True\n",
            "True\n",
            "True\n",
            "True\n"
          ]
        }
      ],
      "source": [
        "for A in [False, True]:\n",
        "    for B in [False, True]:\n",
        "        print(not(A and B) == (not(A) or not(B)))"
      ]
    },
    {
      "cell_type": "markdown",
      "metadata": {
        "id": "2w8Dx-capYm_"
      },
      "source": [
        "2) Записать систему неравенств в одну строку БЕЗ использования and, or, True, False (разрешаются только операции сравнения):\n",
        "* x^2 > 6 - x \n",
        "* x > 0\n",
        "\n",
        "Проверить на x = -5 (False), 3 (True), 1 (False), 0 (False):"
      ]
    },
    {
      "cell_type": "code",
      "execution_count": null,
      "metadata": {
        "id": "XCdWIxOFpzmX",
        "colab": {
          "base_uri": "https://localhost:8080/"
        },
        "outputId": "e8ffc27a-d288-4388-ccbd-c4d0f1f9ad24"
      },
      "outputs": [
        {
          "output_type": "stream",
          "name": "stdout",
          "text": [
            "0\n",
            "False\n"
          ]
        }
      ],
      "source": [
        "x = int(input())\n",
        "print((x**2 > 6-x) == (x > 0) == True)\n"
      ]
    },
    {
      "cell_type": "markdown",
      "metadata": {
        "id": "pimWUyPHpYnB"
      },
      "source": [
        "3) Записать все следующие условия в одну цепочку неравенств (без использования логических операторов):\n",
        "* 0 <= a <= c\n",
        "* 0 <= b < c\n",
        "* b == 2\n",
        "* 0 <= c < 5"
      ]
    },
    {
      "cell_type": "code",
      "execution_count": null,
      "metadata": {
        "id": "YZo0-KKiqKen"
      },
      "outputs": [],
      "source": [
        "x = (0 <= a <= c) == (0 <= b < c) == (b == 2) == (0 <= c < 5) == True"
      ]
    },
    {
      "cell_type": "markdown",
      "metadata": {
        "id": "4t7ZVG_UpYnC"
      },
      "source": [
        "3.2) Запросить пользователя ввести две строки. Проверить, что первая строка длиннее второй, но при этом находится ближе в лексикографическом порядке. Подобрать пару строк, удовлетворяющую условию."
      ]
    },
    {
      "cell_type": "code",
      "execution_count": 9,
      "metadata": {
        "id": "yHTQcXnWqT4X",
        "colab": {
          "base_uri": "https://localhost:8080/"
        },
        "outputId": "dc302f4a-f59d-4089-a06a-d590bc78cf5b"
      },
      "outputs": [
        {
          "output_type": "stream",
          "name": "stdout",
          "text": [
            "stringlong\n",
            "string \n",
            "True\n"
          ]
        }
      ],
      "source": [
        "string1 = input()\n",
        "string2 = input()\n",
        "print((len(string1) > len(string2)) == (string1 > string2) == True)"
      ]
    },
    {
      "cell_type": "markdown",
      "metadata": {
        "id": "48jjj_dbpYnC"
      },
      "source": [
        "4) Записать перечисленные строки в порядке возрастания. Для проверки воспользуйтесь цепочкой из последовательных сравнений (s1 < s2 < s3 < ...), которая должна возвращать True:\n",
        "* s1 = 'string'\n",
        "* s2 = 'String'\n",
        "* s3 = 'strinG'\n",
        "* s4 = 'stringlong'\n",
        "* s5 = ' string'\n",
        "* s6 = 'string '\n",
        "* s7 = '_string'"
      ]
    },
    {
      "cell_type": "code",
      "execution_count": null,
      "metadata": {
        "id": "0HJsuvBUqSwf",
        "outputId": "1a5d4996-f973-425b-fd45-c0bf8fc159c0"
      },
      "outputs": [
        {
          "name": "stdout",
          "output_type": "stream",
          "text": [
            "True\n"
          ]
        }
      ],
      "source": [
        "s1 = 'string'\n",
        "s2 = 'String'\n",
        "s3 = 'strinG'\n",
        "s4 = 'stringlong'\n",
        "s5 = ' string'\n",
        "s6 = 'string '\n",
        "s7 = '_string'\n",
        "print(s5 < s2 < s7 < s3 < s1 < s6 < s4)"
      ]
    },
    {
      "cell_type": "markdown",
      "metadata": {
        "id": "wNPdgSIepYnD"
      },
      "source": [
        "5) Если в произвольной входной строке встречается \"!!!\", выводить на печать \"exclaim\". При этом если строка начинается с \"!!!\", вместо этого выводить \"Nota bene: \" и исходную строку без восклицательных знаков. Если встречается \"???\", то выводить \"question\". Если встречаются оба (\"!!!\" и \"???\"), то ничего не выводить. В других случаях выводить \"random\"."
      ]
    },
    {
      "cell_type": "code",
      "execution_count": 1,
      "metadata": {
        "id": "u1g_thE5qRk_",
        "colab": {
          "base_uri": "https://localhost:8080/"
        },
        "outputId": "5897ca70-272d-4848-f5cb-0ea5d9b17c9e"
      },
      "outputs": [
        {
          "output_type": "stream",
          "name": "stdout",
          "text": [
            "dsgb&&???rehs\n",
            "question\n"
          ]
        }
      ],
      "source": [
        "\n",
        "string = input()\n",
        "if '!!!' in string and '???' in string:\n",
        "  pass\n",
        "elif string[:3] == '!!!':\n",
        "  print('Nota bene:', string[3:])\n",
        "elif '!!!' in string:\n",
        "  print('exclaim')\n",
        "elif '???' in string:\n",
        "  print('question')\n",
        "else:\n",
        "  print('random')\n"
      ]
    },
    {
      "cell_type": "markdown",
      "metadata": {
        "id": "AlKMqxjZpYnE"
      },
      "source": [
        "6) В задании 1 добавить проверку на длину входной строки. Если длина строки больше 5, выполнять инструкцию из задания 1. В противном случае выводить исходную строку три раза подряд через дефис, если количество символов нечетное."
      ]
    },
    {
      "cell_type": "code",
      "execution_count": null,
      "metadata": {
        "id": "Po0eIcM_qRHH",
        "outputId": "f65d413f-371b-42f0-a035-2f2d8f382109"
      },
      "outputs": [
        {
          "name": "stdout",
          "output_type": "stream",
          "text": [
            "7\n",
            "7 - 7 - 7\n"
          ]
        }
      ],
      "source": [
        "string = input()\n",
        "if len(string) > 5:\n",
        "    pass\n",
        "else:\n",
        "    if len(string) % 2 != 0:\n",
        "        print(string, '-', string, '-', string)\n"
      ]
    },
    {
      "cell_type": "markdown",
      "metadata": {
        "id": "6opiYOEApYnE"
      },
      "source": [
        "7) Протестировать инструкцию: x = a _if_ condition _else_ b на примере: в переменную friend записать x, если в x встречается слово \"banana\", в ином случае записать в нее y. \n",
        "\n",
        "Пример: при x = \"banana monkey\", y = \"orangutan\" значение переменной friend должно быть равно \"banana monkey\"."
      ]
    },
    {
      "cell_type": "code",
      "execution_count": 2,
      "metadata": {
        "collapsed": true,
        "id": "M5d470xzpYnF",
        "colab": {
          "base_uri": "https://localhost:8080/"
        },
        "outputId": "0f890b97-bf08-44b9-9b5c-0cee4c17f0ee"
      },
      "outputs": [
        {
          "output_type": "stream",
          "name": "stdout",
          "text": [
            "['banana monkey']\n"
          ]
        }
      ],
      "source": [
        "x,y = \"banana monkey\", \"orangutan\"\n",
        "friend = [x if \"banana\" in x else y]\n",
        "print(friend)"
      ]
    }
  ],
  "metadata": {
    "anaconda-cloud": {},
    "colab": {
      "provenance": [],
      "collapsed_sections": []
    },
    "kernelspec": {
      "display_name": "Python 3 (ipykernel)",
      "language": "python",
      "name": "python3"
    },
    "language_info": {
      "codemirror_mode": {
        "name": "ipython",
        "version": 3
      },
      "file_extension": ".py",
      "mimetype": "text/x-python",
      "name": "python",
      "nbconvert_exporter": "python",
      "pygments_lexer": "ipython3",
      "version": "3.9.7"
    }
  },
  "nbformat": 4,
  "nbformat_minor": 0
}